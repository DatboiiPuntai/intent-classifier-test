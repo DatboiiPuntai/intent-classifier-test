{
  "nbformat": 4,
  "nbformat_minor": 0,
  "metadata": {
    "colab": {
      "provenance": []
    },
    "kernelspec": {
      "name": "python3",
      "display_name": "Python 3"
    },
    "language_info": {
      "name": "python"
    },
    "accelerator": "GPU",
    "gpuClass": "standard"
  },
  "cells": [
    {
      "cell_type": "code",
      "execution_count": null,
      "metadata": {
        "colab": {
          "base_uri": "https://localhost:8080/"
        },
        "id": "Ugz1w85cQv6_",
        "outputId": "a0b0b975-6eab-4428-c7f0-64a1360f47d0"
      },
      "outputs": [
        {
          "output_type": "stream",
          "name": "stdout",
          "text": [
            "Looking in indexes: https://pypi.org/simple, https://us-python.pkg.dev/colab-wheels/public/simple/\n",
            "Requirement already satisfied: wget in /usr/local/lib/python3.8/dist-packages (3.2)\n",
            "Requirement already satisfied: tensorflow in /usr/local/lib/python3.8/dist-packages (2.9.2)\n",
            "Requirement already satisfied: pandas in /usr/local/lib/python3.8/dist-packages (1.3.5)\n",
            "Requirement already satisfied: numpy in /usr/local/lib/python3.8/dist-packages (1.21.6)\n",
            "Requirement already satisfied: keras in /usr/local/lib/python3.8/dist-packages (2.9.0)\n",
            "\u001b[31mERROR: Could not find a version that satisfies the requirement pickle (from versions: none)\u001b[0m\u001b[31m\n",
            "\u001b[0m\u001b[31mERROR: No matching distribution found for pickle\u001b[0m\u001b[31m\n",
            "\u001b[0m"
          ]
        }
      ],
      "source": [
        "!pip install wget tensorflow pandas numpy keras pickle"
      ]
    },
    {
      "cell_type": "code",
      "source": [
        "import wget\n",
        "url = 'https://raw.githubusercontent.com/clinc/oos-eval/master/data/data_full.json'\n",
        "wget.download(url)"
      ],
      "metadata": {
        "colab": {
          "base_uri": "https://localhost:8080/",
          "height": 35
        },
        "id": "Rdl_vseXQ4wl",
        "outputId": "3d15aeb1-12d7-44f6-8b07-fc540836f24e"
      },
      "execution_count": null,
      "outputs": [
        {
          "output_type": "execute_result",
          "data": {
            "text/plain": [
              "'data_full.json'"
            ],
            "application/vnd.google.colaboratory.intrinsic+json": {
              "type": "string"
            }
          },
          "metadata": {},
          "execution_count": 2
        }
      ]
    },
    {
      "cell_type": "code",
      "source": [
        "import numpy as np\n",
        "import json\n",
        "# Loading json data\n",
        "with open('data_full.json') as file:\n",
        "  data = json.loads(file.read())\n",
        "\n",
        "# Loading out-of-scope intent data\n",
        "val_oos = np.array(data['oos_val'])\n",
        "train_oos = np.array(data['oos_train'])\n",
        "test_oos = np.array(data['oos_test'])\n",
        "\n",
        "# Loading other intents data\n",
        "val_others = np.array(data['val'])\n",
        "train_others = np.array(data['train'])\n",
        "test_others = np.array(data['test'])\n",
        "\n",
        "# Merging out-of-scope and other intent data\n",
        "val = np.concatenate([val_oos,val_others])\n",
        "train = np.concatenate([train_oos,train_others])\n",
        "test = np.concatenate([test_oos,test_others])\n",
        "data = np.concatenate([train,test,val])\n",
        "data = data.T\n",
        "\n",
        "text = data[0]\n",
        "labels = data[1]"
      ],
      "metadata": {
        "id": "wZtvXFVSQ7Jg"
      },
      "execution_count": null,
      "outputs": []
    },
    {
      "cell_type": "code",
      "source": [
        "from sklearn.model_selection import train_test_split\n",
        "train_X,test_X,train_y,test_y = train_test_split(text,labels,test_size = 0.3)"
      ],
      "metadata": {
        "id": "svEQPaMdRSJc"
      },
      "execution_count": null,
      "outputs": []
    },
    {
      "cell_type": "code",
      "source": [
        "import tensorflow\n",
        "from tensorflow.keras.preprocessing.text import Tokenizer\n",
        "from tensorflow.keras.preprocessing.sequence import pad_sequences\n",
        "max_num_words = 40000\n",
        "classes = np.unique(labels)\n",
        "\n",
        "tokenizer = Tokenizer(num_words=max_num_words)\n",
        "tokenizer.fit_on_texts(train_X)\n",
        "word_index = tokenizer.word_index"
      ],
      "metadata": {
        "id": "1qOYXRgfR0eD"
      },
      "execution_count": null,
      "outputs": []
    },
    {
      "cell_type": "code",
      "source": [
        "ls=[]\n",
        "for c in train_X:\n",
        "    ls.append(len(c.split()))\n",
        "maxLen=int(np.percentile(ls, 98))\n",
        "train_sequences = tokenizer.texts_to_sequences(train_X)\n",
        "train_sequences = pad_sequences(train_sequences, maxlen=maxLen,              padding='post')\n",
        "test_sequences = tokenizer.texts_to_sequences(test_X)\n",
        "test_sequences = pad_sequences(test_sequences, maxlen=maxLen, padding='post')"
      ],
      "metadata": {
        "id": "aqXfogjESdbz"
      },
      "execution_count": null,
      "outputs": []
    },
    {
      "cell_type": "code",
      "source": [
        "from sklearn.preprocessing import OneHotEncoder,LabelEncoder\n",
        "\n",
        "label_encoder = LabelEncoder()\n",
        "integer_encoded = label_encoder.fit_transform(classes)\n",
        "\n",
        "onehot_encoder = OneHotEncoder(sparse=False)\n",
        "integer_encoded = integer_encoded.reshape(len(integer_encoded), 1)\n",
        "onehot_encoder.fit(integer_encoded)\n",
        "train_label_encoded = label_encoder.transform(train_y)\n",
        "train_label_encoded = train_label_encoded.reshape(len(train_label_encoded), 1)\n",
        "train_label = onehot_encoder.transform(train_label_encoded)\n",
        "test_labels_encoded = label_encoder.transform(test_y)\n",
        "test_labels_encoded = test_labels_encoded.reshape(len(test_labels_encoded), 1)\n",
        "test_labels = onehot_encoder.transform(test_labels_encoded)"
      ],
      "metadata": {
        "id": "dIalM2dESoZ9"
      },
      "execution_count": null,
      "outputs": []
    },
    {
      "cell_type": "code",
      "source": [
        "import wget\n",
        "url ='https://www.dropbox.com/s/a247ju2qsczh0be/glove.6B.100d.txt?dl=1'\n",
        "wget.download(url)"
      ],
      "metadata": {
        "colab": {
          "base_uri": "https://localhost:8080/",
          "height": 35
        },
        "id": "-4gY2PalSvZb",
        "outputId": "91a45b61-f091-4b08-e68f-7054767c1ab4"
      },
      "execution_count": null,
      "outputs": [
        {
          "output_type": "execute_result",
          "data": {
            "text/plain": [
              "'glove.6B.100d.txt'"
            ],
            "application/vnd.google.colaboratory.intrinsic+json": {
              "type": "string"
            }
          },
          "metadata": {},
          "execution_count": 8
        }
      ]
    },
    {
      "cell_type": "code",
      "source": [
        "embeddings_index={}\n",
        "with open('glove.6B.100d.txt', encoding='utf8') as f:\n",
        "    for line in f:\n",
        "        values = line.split()\n",
        "        word = values[0]\n",
        "        coefs = np.asarray(values[1:], dtype='float32')\n",
        "        embeddings_index[word] = coefs"
      ],
      "metadata": {
        "id": "CdLRIjrkS39E"
      },
      "execution_count": null,
      "outputs": []
    },
    {
      "cell_type": "code",
      "source": [
        "all_embs = np.stack(embeddings_index.values())\n",
        "emb_mean,emb_std = all_embs.mean(), all_embs.std()\n",
        "num_words = min(max_num_words, len(word_index))+1\n",
        "embedding_dim=len(embeddings_index['the'])\n",
        "embedding_matrix = np.random.normal(emb_mean, emb_std, (num_words, embedding_dim))\n",
        "for word, i in word_index.items():\n",
        "    if i >= max_num_words:\n",
        "        break\n",
        "    embedding_vector = embeddings_index.get(word)\n",
        "    if embedding_vector is not None:\n",
        "        embedding_matrix[i] = embedding_vector"
      ],
      "metadata": {
        "colab": {
          "base_uri": "https://localhost:8080/"
        },
        "id": "MGaGY5p_TbBJ",
        "outputId": "1e2d4f15-eac2-413b-f73d-782eac9c68a0"
      },
      "execution_count": null,
      "outputs": [
        {
          "output_type": "stream",
          "name": "stderr",
          "text": [
            "/usr/local/lib/python3.8/dist-packages/IPython/core/interactiveshell.py:3249: FutureWarning: arrays to stack must be passed as a \"sequence\" type such as list or tuple. Support for non-sequence iterables such as generators is deprecated as of NumPy 1.16 and will raise an error in the future.\n",
            "  if (await self.run_code(code, result,  async_=asy)):\n"
          ]
        }
      ]
    },
    {
      "cell_type": "code",
      "source": [
        "from tensorflow.keras.models import Sequential\n",
        "from tensorflow.keras.layers import Dense, Input, Dropout, LSTM, Activation, Bidirectional,Embedding\n",
        "model = Sequential()\n",
        "\n",
        "model.add(Embedding(num_words, 100, trainable=False,input_length=train_sequences.shape[1], weights=[embedding_matrix]))\n",
        "model.add(Bidirectional(LSTM(256, return_sequences=True, recurrent_dropout=0.1, dropout=0.1), 'concat'))\n",
        "model.add(Dropout(0.3))\n",
        "model.add(LSTM(256, return_sequences=False, recurrent_dropout=0.1, dropout=0.1))\n",
        "model.add(Dropout(0.3))\n",
        "model.add(Dense(50, activation='relu'))\n",
        "model.add(Dropout(0.3))\n",
        "model.add(Dense(classes.shape[0], activation='softmax'))\n",
        "model.compile(loss='categorical_crossentropy', optimizer='adam', metrics=['acc'])"
      ],
      "metadata": {
        "colab": {
          "base_uri": "https://localhost:8080/"
        },
        "id": "zi-thkxOT5cA",
        "outputId": "658ddacc-4e86-403b-82d2-ac751d414dbc"
      },
      "execution_count": null,
      "outputs": [
        {
          "output_type": "stream",
          "name": "stderr",
          "text": [
            "WARNING:tensorflow:Layer lstm will not use cuDNN kernels since it doesn't meet the criteria. It will use a generic GPU kernel as fallback when running on GPU.\n",
            "WARNING:tensorflow:Layer lstm will not use cuDNN kernels since it doesn't meet the criteria. It will use a generic GPU kernel as fallback when running on GPU.\n",
            "WARNING:tensorflow:Layer lstm will not use cuDNN kernels since it doesn't meet the criteria. It will use a generic GPU kernel as fallback when running on GPU.\n",
            "WARNING:tensorflow:Layer lstm_1 will not use cuDNN kernels since it doesn't meet the criteria. It will use a generic GPU kernel as fallback when running on GPU.\n"
          ]
        }
      ]
    },
    {
      "cell_type": "code",
      "source": [
        "history = model.fit(train_sequences, train_label, epochs = 20,\n",
        "          batch_size = 64, shuffle=True,\n",
        "          validation_data=[test_sequences, test_labels])"
      ],
      "metadata": {
        "colab": {
          "base_uri": "https://localhost:8080/"
        },
        "id": "AuWBzXFGUAAJ",
        "outputId": "51b07c53-3392-4218-f141-dfcbb777f32c"
      },
      "execution_count": null,
      "outputs": [
        {
          "output_type": "stream",
          "name": "stdout",
          "text": [
            "Epoch 1/20\n",
            "260/260 [==============================] - 63s 210ms/step - loss: 4.6763 - acc: 0.0500 - val_loss: 3.8984 - val_acc: 0.0969\n",
            "Epoch 2/20\n",
            "260/260 [==============================] - 53s 204ms/step - loss: 3.3631 - acc: 0.1495 - val_loss: 2.3076 - val_acc: 0.3831\n",
            "Epoch 3/20\n",
            "260/260 [==============================] - 54s 209ms/step - loss: 2.2216 - acc: 0.3744 - val_loss: 1.4806 - val_acc: 0.5835\n",
            "Epoch 4/20\n",
            "260/260 [==============================] - 54s 209ms/step - loss: 1.5974 - acc: 0.5396 - val_loss: 1.0798 - val_acc: 0.7015\n",
            "Epoch 5/20\n",
            "260/260 [==============================] - 54s 206ms/step - loss: 1.2368 - acc: 0.6403 - val_loss: 0.8766 - val_acc: 0.7579\n",
            "Epoch 6/20\n",
            "260/260 [==============================] - 53s 205ms/step - loss: 0.9944 - acc: 0.7130 - val_loss: 0.8079 - val_acc: 0.7717\n",
            "Epoch 7/20\n",
            "260/260 [==============================] - 53s 204ms/step - loss: 0.8388 - acc: 0.7608 - val_loss: 0.6998 - val_acc: 0.8120\n",
            "Epoch 8/20\n",
            "260/260 [==============================] - 53s 203ms/step - loss: 0.7005 - acc: 0.7998 - val_loss: 0.6383 - val_acc: 0.8224\n",
            "Epoch 9/20\n",
            "260/260 [==============================] - 54s 207ms/step - loss: 0.6289 - acc: 0.8208 - val_loss: 0.5934 - val_acc: 0.8435\n",
            "Epoch 10/20\n",
            "260/260 [==============================] - 54s 209ms/step - loss: 0.5473 - acc: 0.8447 - val_loss: 0.5740 - val_acc: 0.8505\n",
            "Epoch 11/20\n",
            "260/260 [==============================] - 64s 246ms/step - loss: 0.4968 - acc: 0.8601 - val_loss: 0.5487 - val_acc: 0.8571\n",
            "Epoch 12/20\n",
            "260/260 [==============================] - 57s 219ms/step - loss: 0.4669 - acc: 0.8685 - val_loss: 0.5293 - val_acc: 0.8665\n",
            "Epoch 13/20\n",
            "260/260 [==============================] - 60s 231ms/step - loss: 0.4013 - acc: 0.8854 - val_loss: 0.5484 - val_acc: 0.8623\n",
            "Epoch 14/20\n",
            "260/260 [==============================] - 53s 205ms/step - loss: 0.3668 - acc: 0.8955 - val_loss: 0.5579 - val_acc: 0.8712\n",
            "Epoch 15/20\n",
            "260/260 [==============================] - 56s 215ms/step - loss: 0.3255 - acc: 0.9083 - val_loss: 0.5489 - val_acc: 0.8765\n",
            "Epoch 16/20\n",
            "260/260 [==============================] - 53s 203ms/step - loss: 0.3057 - acc: 0.9149 - val_loss: 0.4994 - val_acc: 0.8844\n",
            "Epoch 17/20\n",
            "260/260 [==============================] - 56s 217ms/step - loss: 0.2773 - acc: 0.9207 - val_loss: 0.5317 - val_acc: 0.8842\n",
            "Epoch 18/20\n",
            "260/260 [==============================] - 54s 206ms/step - loss: 0.2604 - acc: 0.9269 - val_loss: 0.5198 - val_acc: 0.8923\n",
            "Epoch 19/20\n",
            "260/260 [==============================] - 55s 210ms/step - loss: 0.2274 - acc: 0.9362 - val_loss: 0.5463 - val_acc: 0.8864\n",
            "Epoch 20/20\n",
            "260/260 [==============================] - 53s 203ms/step - loss: 0.2193 - acc: 0.9414 - val_loss: 0.5797 - val_acc: 0.8786\n"
          ]
        }
      ]
    },
    {
      "cell_type": "code",
      "source": [
        "import matplotlib.pyplot as plt\n",
        "%matplotlib inline\n",
        "plt.plot(history.history['acc'])\n",
        "plt.plot(history.history['val_acc'])\n",
        "plt.title('Model Accuracy')\n",
        "plt.ylabel('Accuracy')\n",
        "plt.xlabel('Epoch')\n",
        "plt.legend(['Train', 'Validation'], loc='upper left')\n",
        "plt.show()"
      ],
      "metadata": {
        "colab": {
          "base_uri": "https://localhost:8080/",
          "height": 295
        },
        "id": "5RJtld1HXUiF",
        "outputId": "399ba3fd-9cd5-4ec7-c884-9427cd0efed5"
      },
      "execution_count": null,
      "outputs": [
        {
          "output_type": "display_data",
          "data": {
            "text/plain": [
              "<Figure size 432x288 with 1 Axes>"
            ],
            "image/png": "[encoded data removed]"
          },
          "metadata": {
            "needs_background": "light"
          }
        }
      ]
    },
    {
      "cell_type": "code",
      "source": [
        "import matplotlib.pyplot as plt\n",
        "%matplotlib inline\n",
        "plt.plot(history.history['loss'])\n",
        "plt.plot(history.history['val_loss'])\n",
        "plt.title('Model Loss')\n",
        "plt.ylabel('Loss')\n",
        "plt.xlabel('Epoch')\n",
        "plt.legend(['Train', 'Validation'], loc='upper left')\n",
        "plt.show()"
      ],
      "metadata": {
        "colab": {
          "base_uri": "https://localhost:8080/",
          "height": 295
        },
        "id": "IZNSteUCXWr2",
        "outputId": "3f3f7f08-655e-46ec-9d9e-1c20254f14e3"
      },
      "execution_count": null,
      "outputs": [
        {
          "output_type": "display_data",
          "data": {
            "text/plain": [
              "<Figure size 432x288 with 1 Axes>"
            ],
            "image/png": "[encoded data removed]"
          },
          "metadata": {
            "needs_background": "light"
          }
        }
      ]
    },
    {
      "cell_type": "code",
      "source": [
        "import pickle\n",
        "import json\n",
        "model.save('models/intents.h5')\n",
        "\n",
        "with open('utils/classes.pkl','wb') as file:\n",
        "   pickle.dump(classes,file)\n",
        "\n",
        "with open('utils/tokenizer.pkl','wb') as file:\n",
        "   pickle.dump(tokenizer,file)\n",
        "\n",
        "with open('utils/label_encoder.pkl','wb') as file:\n",
        "   pickle.dump(label_encoder,file)"
      ],
      "metadata": {
        "id": "xOmSN5KZXXtx"
      },
      "execution_count": null,
      "outputs": []
    },
    {
      "cell_type": "code",
      "source": [
        "import numpy as np\n",
        "from tensorflow.keras.preprocessing.sequence import pad_sequences\n",
        "class IntentClassifier:\n",
        "    def __init__(self,classes,model,tokenizer,label_encoder):\n",
        "        self.classes = classes\n",
        "        self.classifier = model\n",
        "        self.tokenizer = tokenizer\n",
        "        self.label_encoder = label_encoder\n",
        "\n",
        "    def get_intent(self,text):\n",
        "        self.text = [text]\n",
        "        self.test_keras = self.tokenizer.texts_to_sequences(self.text)\n",
        "        self.test_keras_sequence = pad_sequences(self.test_keras, maxlen=16, padding='post')\n",
        "        self.pred = self.classifier.predict(self.test_keras_sequence)\n",
        "        return self.label_encoder.inverse_transform(np.argmax(self.pred,1))[0]"
      ],
      "metadata": {
        "id": "PFIPpj74XaDi"
      },
      "execution_count": null,
      "outputs": []
    },
    {
      "cell_type": "code",
      "source": [
        "nlu = IntentClassifier(classes,model,tokenizer,label_encoder)\n",
        "print(nlu.get_intent(\"Hey!\"))\n",
        "# Prints 'weather'"
      ],
      "metadata": {
        "colab": {
          "base_uri": "https://localhost:8080/"
        },
        "id": "YOVAbZh9Xduw",
        "outputId": "ffda5048-a7a3-4bdc-bc9c-2ee206bcecc9"
      },
      "execution_count": null,
      "outputs": [
        {
          "output_type": "stream",
          "name": "stdout",
          "text": [
            "1/1 [==============================] - 0s 54ms/step\n",
            "greeting\n"
          ]
        }
      ]
    }
  ]
}